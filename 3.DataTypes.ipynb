{
  "cells": [
    {
      "cell_type": "markdown",
      "source": [
        "# Tipos de Datos en Python\n",
        "\n",
        "Pytho utiliza múltiples tipos de datos para la Analítica."
      ],
      "metadata": {
        "id": "3PJYQxMlgzvg"
      }
    },
    {
      "cell_type": "markdown",
      "source": [
        "# Integer"
      ],
      "metadata": {
        "id": "bqv10p5-hmEg"
      }
    },
    {
      "cell_type": "code",
      "execution_count": 6,
      "metadata": {
        "id": "7gp8GoolgxeN",
        "outputId": "41246099-48c7-41f0-a77d-6443e6d4941a",
        "colab": {
          "base_uri": "https://localhost:8080/"
        }
      },
      "outputs": [
        {
          "output_type": "stream",
          "name": "stdout",
          "text": [
            "14\n",
            "<class 'int'>\n"
          ]
        }
      ],
      "source": [
        "x = 14\n",
        "\n",
        "print(x)\n",
        "print(type(x))"
      ]
    },
    {
      "cell_type": "markdown",
      "source": [
        "# Floats"
      ],
      "metadata": {
        "id": "HuKJUf20iDX_"
      }
    },
    {
      "cell_type": "code",
      "source": [
        "nearly_pi = 3.141592653589793238462643383279502884197169399375105820974944\n",
        "print(nearly_pi)\n",
        "print(type(nearly_pi))"
      ],
      "metadata": {
        "id": "Pxjk4PIaiFdo",
        "outputId": "129b2f94-bab9-4982-abff-954b4114f1a5",
        "colab": {
          "base_uri": "https://localhost:8080/"
        }
      },
      "execution_count": 7,
      "outputs": [
        {
          "output_type": "stream",
          "name": "stdout",
          "text": [
            "3.141592653589793\n",
            "<class 'float'>\n"
          ]
        }
      ]
    },
    {
      "cell_type": "code",
      "source": [
        "almost_pi = 22/7\n",
        "print(almost_pi)\n",
        "print(type(almost_pi))"
      ],
      "metadata": {
        "id": "41A8dbORiVoV",
        "outputId": "9ffb6c2f-5c6f-485b-fa1a-37719226ec9a",
        "colab": {
          "base_uri": "https://localhost:8080/"
        }
      },
      "execution_count": 8,
      "outputs": [
        {
          "output_type": "stream",
          "name": "stdout",
          "text": [
            "3.142857142857143\n",
            "<class 'float'>\n"
          ]
        }
      ]
    },
    {
      "cell_type": "markdown",
      "source": [
        "# Función round()\n",
        "\n",
        "Permite redondear un número flotante con n cifras decimales."
      ],
      "metadata": {
        "id": "P6KjlETyiekW"
      }
    },
    {
      "cell_type": "code",
      "source": [
        "# Round to 5 decimal places\n",
        "\n",
        "rounded_pi = round(almost_pi, 5)\n",
        "\n",
        "print(rounded_pi)\n",
        "print(type(rounded_pi))"
      ],
      "metadata": {
        "id": "jm4F3TtuikQ6",
        "outputId": "6ca783e4-e2ec-48a8-d307-7885ac67e1e9",
        "colab": {
          "base_uri": "https://localhost:8080/"
        }
      },
      "execution_count": 9,
      "outputs": [
        {
          "output_type": "stream",
          "name": "stdout",
          "text": [
            "3.14286\n",
            "<class 'float'>\n"
          ]
        }
      ]
    },
    {
      "cell_type": "code",
      "source": [
        "y_float = 1.\n",
        "print(y_float)\n",
        "print(type(y_float))"
      ],
      "metadata": {
        "id": "5Go8AaJYjEdo",
        "outputId": "592b0191-e5fd-4286-a3af-0bb5aca9ae95",
        "colab": {
          "base_uri": "https://localhost:8080/"
        }
      },
      "execution_count": 10,
      "outputs": [
        {
          "output_type": "stream",
          "name": "stdout",
          "text": [
            "1.0\n",
            "<class 'float'>\n"
          ]
        }
      ]
    },
    {
      "cell_type": "markdown",
      "source": [
        "# Booleans\n",
        "\n",
        "Valores de Falso o Verdadero."
      ],
      "metadata": {
        "id": "MkgkN9phjSoC"
      }
    },
    {
      "cell_type": "code",
      "source": [
        "z_one = True\n",
        "print(z_one)\n",
        "print(type(z_one))\n",
        "\n",
        "z_two = False\n",
        "print(z_two)\n",
        "print(type(z_two))"
      ],
      "metadata": {
        "id": "msWn5tvijWXl",
        "outputId": "aaa96085-bf9f-40cf-bf39-c5746ce84c7e",
        "colab": {
          "base_uri": "https://localhost:8080/"
        }
      },
      "execution_count": 11,
      "outputs": [
        {
          "output_type": "stream",
          "name": "stdout",
          "text": [
            "True\n",
            "<class 'bool'>\n",
            "False\n",
            "<class 'bool'>\n"
          ]
        }
      ]
    },
    {
      "cell_type": "markdown",
      "source": [
        "Las expresiones con operadores relacionales devuelven valores lógicos True/False"
      ],
      "metadata": {
        "id": "04n8aB4fj8Lx"
      }
    },
    {
      "cell_type": "code",
      "source": [
        "z_three = (1 < 2)\n",
        "\n",
        "print(z_three)\n",
        "print(type(z_three))"
      ],
      "metadata": {
        "id": "eDAfd33gkBkM",
        "outputId": "d41ff0cb-2549-4984-8783-7020be79ebf7",
        "colab": {
          "base_uri": "https://localhost:8080/"
        }
      },
      "execution_count": 12,
      "outputs": [
        {
          "output_type": "stream",
          "name": "stdout",
          "text": [
            "True\n",
            "<class 'bool'>\n"
          ]
        }
      ]
    },
    {
      "cell_type": "code",
      "source": [
        "z_four = (5 != 3)\n",
        "\n",
        "print(z_four)\n",
        "print(type(z_four))"
      ],
      "metadata": {
        "id": "6fpZMgHKkIY0",
        "outputId": "c82d6635-4d72-4426-ae1e-a5ca5e1a3357",
        "colab": {
          "base_uri": "https://localhost:8080/"
        }
      },
      "execution_count": 16,
      "outputs": [
        {
          "output_type": "stream",
          "name": "stdout",
          "text": [
            "True\n",
            "<class 'bool'>\n"
          ]
        }
      ]
    },
    {
      "cell_type": "markdown",
      "source": [
        "Se pueden manejar operadores lógicos:"
      ],
      "metadata": {
        "id": "D7M6Oz8ikXVS"
      }
    },
    {
      "cell_type": "code",
      "source": [
        "z_five = not z_four\n",
        "\n",
        "print(z_five)\n",
        "print(type(z_five))"
      ],
      "metadata": {
        "id": "ZCGw7zV8kZ9I",
        "outputId": "2c3e5965-8495-4dd8-9cb0-88272aab9e54",
        "colab": {
          "base_uri": "https://localhost:8080/"
        }
      },
      "execution_count": 17,
      "outputs": [
        {
          "output_type": "stream",
          "name": "stdout",
          "text": [
            "False\n",
            "<class 'bool'>\n"
          ]
        }
      ]
    },
    {
      "cell_type": "markdown",
      "source": [
        "# Strings\n",
        "\n",
        "Se pueden manejar datos Strings con varias alternativas: \n",
        "\n",
        "1.- Con comillas simples o dobles. Son lo mismo. Son de 1 linea.\n",
        "2.- Con comillas triples. Son de n lineas"
      ],
      "metadata": {
        "id": "AUqCLl3hkpsX"
      }
    },
    {
      "cell_type": "code",
      "source": [
        "w = 'Hello, Python!'\n",
        "\n",
        "print(w)\n",
        "print(type(w))"
      ],
      "metadata": {
        "id": "xHEG_QmblKI4",
        "outputId": "0d1e883a-c35f-4609-b4f4-dea4acc430dd",
        "colab": {
          "base_uri": "https://localhost:8080/"
        }
      },
      "execution_count": 19,
      "outputs": [
        {
          "output_type": "stream",
          "name": "stdout",
          "text": [
            "Hello, Python!\n",
            "<class 'str'>\n"
          ]
        }
      ]
    },
    {
      "cell_type": "code",
      "source": [
        "w = \"\"\"\n",
        "Hello, Python!\n",
        "Como están todos por allá?\n",
        "\"\"\"\n",
        "print(w)\n",
        "print(type(w))"
      ],
      "metadata": {
        "id": "hW-VqaGFlQDM",
        "outputId": "3a5cfad6-6dd5-447d-c41b-5b205ceb1be5",
        "colab": {
          "base_uri": "https://localhost:8080/"
        }
      },
      "execution_count": 20,
      "outputs": [
        {
          "output_type": "stream",
          "name": "stdout",
          "text": [
            "\n",
            "Hello, Python!\n",
            "Como están todos por allá?\n",
            "\n",
            "<class 'str'>\n"
          ]
        }
      ]
    },
    {
      "cell_type": "markdown",
      "source": [
        "Longitud de un String:"
      ],
      "metadata": {
        "id": "WLvjLH7amO7w"
      }
    },
    {
      "cell_type": "code",
      "source": [
        "print(len(w))"
      ],
      "metadata": {
        "id": "N7aDEfqDmQx_",
        "outputId": "0490f723-11e0-4ce1-f4b1-003f68377ac7",
        "colab": {
          "base_uri": "https://localhost:8080/"
        }
      },
      "execution_count": 21,
      "outputs": [
        {
          "output_type": "stream",
          "name": "stdout",
          "text": [
            "43\n"
          ]
        }
      ]
    },
    {
      "cell_type": "code",
      "source": [
        "shortest_string = \"\"\n",
        "print(type(shortest_string))\n",
        "print(len(shortest_string))"
      ],
      "metadata": {
        "id": "VnAqUgWAmaru",
        "outputId": "4499a70d-9338-4019-d4bb-7f1883aff325",
        "colab": {
          "base_uri": "https://localhost:8080/"
        }
      },
      "execution_count": 22,
      "outputs": [
        {
          "output_type": "stream",
          "name": "stdout",
          "text": [
            "<class 'str'>\n",
            "0\n"
          ]
        }
      ]
    },
    {
      "cell_type": "code",
      "source": [
        "my_number = \"1.12321\"\n",
        "\n",
        "print(my_number)\n",
        "print(type(my_number))"
      ],
      "metadata": {
        "id": "1ew9LsL3miwR",
        "outputId": "bac56260-583c-4911-d1c9-5416c56f0b67",
        "colab": {
          "base_uri": "https://localhost:8080/"
        }
      },
      "execution_count": 23,
      "outputs": [
        {
          "output_type": "stream",
          "name": "stdout",
          "text": [
            "1.12321\n",
            "<class 'str'>\n"
          ]
        }
      ]
    },
    {
      "cell_type": "code",
      "source": [
        "also_my_number = float(my_number)\n",
        "\n",
        "print(also_my_number)\n",
        "print(type(also_my_number))"
      ],
      "metadata": {
        "id": "8q5jzUxNnQHg",
        "outputId": "06b44b30-ad64-4ca9-8769-565a954d5ff8",
        "colab": {
          "base_uri": "https://localhost:8080/"
        }
      },
      "execution_count": 24,
      "outputs": [
        {
          "output_type": "stream",
          "name": "stdout",
          "text": [
            "1.12321\n",
            "<class 'float'>\n"
          ]
        }
      ]
    },
    {
      "cell_type": "markdown",
      "source": [
        "# Concatenacion"
      ],
      "metadata": {
        "id": "oDbztOD3nZjq"
      }
    },
    {
      "cell_type": "code",
      "source": [
        "new_string = \"abc\" + \"def\"\n",
        "\n",
        "print(new_string)\n",
        "print(type(new_string))"
      ],
      "metadata": {
        "id": "KipR12RRnb7z",
        "outputId": "bebe4285-4cb0-42ad-d96a-d8d86efe0360",
        "colab": {
          "base_uri": "https://localhost:8080/"
        }
      },
      "execution_count": 25,
      "outputs": [
        {
          "output_type": "stream",
          "name": "stdout",
          "text": [
            "abcdef\n",
            "<class 'str'>\n"
          ]
        }
      ]
    },
    {
      "cell_type": "code",
      "source": [
        "newest_string = \"abc\" * 3\n",
        "\n",
        "print(newest_string)\n",
        "print(type(newest_string))"
      ],
      "metadata": {
        "id": "KLQXv864nm-0",
        "outputId": "50b0af26-1595-4757-c3b2-8c8426061498",
        "colab": {
          "base_uri": "https://localhost:8080/"
        }
      },
      "execution_count": 26,
      "outputs": [
        {
          "output_type": "stream",
          "name": "stdout",
          "text": [
            "abcabcabc\n",
            "<class 'str'>\n"
          ]
        }
      ]
    }
  ],
  "metadata": {
    "language_info": {
      "name": "python"
    },
    "orig_nbformat": 4,
    "colab": {
      "provenance": []
    },
    "kernelspec": {
      "name": "python3",
      "display_name": "Python 3"
    },
    "gpuClass": "standard"
  },
  "nbformat": 4,
  "nbformat_minor": 0
}