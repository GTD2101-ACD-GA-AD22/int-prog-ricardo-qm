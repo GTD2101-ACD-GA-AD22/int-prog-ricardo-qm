{
  "nbformat": 4,
  "nbformat_minor": 0,
  "metadata": {
    "colab": {
      "name": "ej-helloworldjnb.ipynb",
      "provenance": [],
      "authorship_tag": "ABX9TyPiTytgsGZ6YxOLow+ChlB+"
    },
    "kernelspec": {
      "name": "python3",
      "display_name": "Python 3"
    },
    "language_info": {
      "name": "python"
    }
  },
  "cells": [
    {
      "cell_type": "markdown",
      "source": [
        "# Aritmetica y Variables en Python"
      ],
      "metadata": {
        "id": "0RY2HEpB-itw"
      }
    },
    {
      "cell_type": "code",
      "execution_count": 7,
      "metadata": {
        "id": "IZfpsPl-FVy7",
        "outputId": "5614580b-15c9-4df5-f00e-5255f854518f",
        "colab": {
          "base_uri": "https://localhost:8080/"
        }
      },
      "outputs": [
        {
          "output_type": "stream",
          "name": "stdout",
          "text": [
            "Hola Mundo!\n"
          ]
        }
      ],
      "source": [
        "print(\"Hola Mundo!\")"
      ]
    },
    {
      "cell_type": "markdown",
      "source": [
        "#Aritmetica en Python\n",
        "\n",
        "Es posible hacer aritmetica simiple en Python"
      ],
      "metadata": {
        "id": "G7Tl-fMT_c80"
      }
    },
    {
      "cell_type": "code",
      "source": [
        "print(1 + 2)"
      ],
      "metadata": {
        "id": "2OY53_VN_iig",
        "outputId": "b6e4aec8-b978-4476-fbf6-6bc268d1790d",
        "colab": {
          "base_uri": "https://localhost:8080/"
        }
      },
      "execution_count": 8,
      "outputs": [
        {
          "output_type": "stream",
          "name": "stdout",
          "text": [
            "3\n"
          ]
        }
      ]
    },
    {
      "cell_type": "code",
      "source": [
        "print(9 - 5)"
      ],
      "metadata": {
        "id": "GjIWUl3q_vM1",
        "outputId": "105d1010-357e-4f41-9a38-885c17155e57",
        "colab": {
          "base_uri": "https://localhost:8080/"
        }
      },
      "execution_count": 9,
      "outputs": [
        {
          "output_type": "stream",
          "name": "stdout",
          "text": [
            "4\n"
          ]
        }
      ]
    },
    {
      "cell_type": "code",
      "source": [
        "print(5//2)"
      ],
      "metadata": {
        "id": "hWFrqdbuAXNu",
        "outputId": "1c602f68-2eec-4caa-e6bb-56f85aa427af",
        "colab": {
          "base_uri": "https://localhost:8080/"
        }
      },
      "execution_count": 10,
      "outputs": [
        {
          "output_type": "stream",
          "name": "stdout",
          "text": [
            "2\n"
          ]
        }
      ]
    },
    {
      "cell_type": "code",
      "source": [
        "print(5 % 2)"
      ],
      "metadata": {
        "id": "IC_utwo9AZ2e",
        "outputId": "46436896-8fbe-4890-8b2a-84d0866b94eb",
        "colab": {
          "base_uri": "https://localhost:8080/"
        }
      },
      "execution_count": 11,
      "outputs": [
        {
          "output_type": "stream",
          "name": "stdout",
          "text": [
            "1\n"
          ]
        }
      ]
    },
    {
      "cell_type": "code",
      "source": [
        "print(((1 + 3) * (9 - 2) / 2) ** 2)"
      ],
      "metadata": {
        "id": "2kJB5kq3AhwL",
        "outputId": "964853ff-b174-435a-f14a-a00b12d9402c",
        "colab": {
          "base_uri": "https://localhost:8080/"
        }
      },
      "execution_count": 12,
      "outputs": [
        {
          "output_type": "stream",
          "name": "stdout",
          "text": [
            "196.0\n"
          ]
        }
      ]
    }
  ]
}